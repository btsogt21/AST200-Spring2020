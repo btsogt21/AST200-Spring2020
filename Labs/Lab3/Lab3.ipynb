{
 "cells": [
  {
   "cell_type": "markdown",
   "metadata": {},
   "source": [
    "### *** Names: [Insert Your Names Here]***"
   ]
  },
  {
   "cell_type": "code",
   "execution_count": null,
   "metadata": {},
   "outputs": [],
   "source": [
    "import numpy as np\n",
    "import scipy.stats as stats\n",
    "%matplotlib inline\n",
    "import matplotlib.pyplot as plt"
   ]
  },
  {
   "cell_type": "markdown",
   "metadata": {},
   "source": [
    "# Lab 3\n",
    "\n",
    "In this lab, you will continue to explore Python plotting, while also learning some of the basic Python statistical functions and distributions. \n",
    "\n",
    "## 1. Statistical Distributions in Python\n",
    "\n",
    "### 1.1 Random Draws\n",
    "In data analysis, it will often be useful to draw a random sample of numbers from a statistical distribution, where the relative probability of getting any given number $x_1$ is proportional to the probability density function evaluated at that location P($x_1$). For example, to draw 1000 random numbers from a normal distribution with mean 0 and standard deviation 1, I would do the following"
   ]
  },
  {
   "cell_type": "code",
   "execution_count": null,
   "metadata": {},
   "outputs": [],
   "source": [
    "#here rvs stands for random variables\n",
    "norm_sample = stats.norm.rvs(size = 100, loc = 0, scale = 1)"
   ]
  },
  {
   "cell_type": "markdown",
   "metadata": {},
   "source": [
    "Although the normal distribution is a continuous function, we have drawn 100 discrete random numbers from it, so your best tool to visualize how these randomly drawn numbers are distributed is to make a histogram. "
   ]
  },
  {
   "cell_type": "code",
   "execution_count": null,
   "metadata": {},
   "outputs": [],
   "source": [
    "fig = plt.hist(norm_sample, bins=10)"
   ]
  },
  {
   "cell_type": "markdown",
   "metadata": {},
   "source": [
    "<div class=hw>\n",
    "    \n",
    "### Exercise 1\n",
    "    \n",
    "-----------------------\n",
    "Copy the two lines of code in the cells above this exercise into the \"testing\" cells below. Modify the values of each of the optional inputs (size, loc, scale, and bins) one at a time until you are confident that you know what they control, and then describe each in words below. In each case, describe the range of values you tried for the keyword and the visible effect that modifying it had on the plot. "
   ]
  },
  {
   "cell_type": "code",
   "execution_count": null,
   "metadata": {},
   "outputs": [],
   "source": [
    "#test of effect of \"size\" keyword"
   ]
  },
  {
   "cell_type": "markdown",
   "metadata": {},
   "source": [
    "*insert explanation of size keyword*"
   ]
  },
  {
   "cell_type": "code",
   "execution_count": null,
   "metadata": {},
   "outputs": [],
   "source": [
    "#test of effect of \"loc\" keyword"
   ]
  },
  {
   "cell_type": "markdown",
   "metadata": {},
   "source": [
    "*insert explanation of loc keyword*"
   ]
  },
  {
   "cell_type": "code",
   "execution_count": null,
   "metadata": {},
   "outputs": [],
   "source": [
    "#test of effect of \"scale\" keyword"
   ]
  },
  {
   "cell_type": "markdown",
   "metadata": {},
   "source": [
    "*insert explanation of scale keyword*"
   ]
  },
  {
   "cell_type": "code",
   "execution_count": null,
   "metadata": {},
   "outputs": [],
   "source": [
    "#test of effect of \"bins\" keyword"
   ]
  },
  {
   "cell_type": "markdown",
   "metadata": {},
   "source": [
    "*insert explanation of bins keyword*"
   ]
  },
  {
   "cell_type": "markdown",
   "metadata": {},
   "source": [
    "### 1.2 Functional forms\n",
    "\n",
    "Of course, most statistical distributions have functional forms and we do not necessarily always need to rely on random draws to visualize or use them. The normal distribution for example, has the functional form\n",
    "$$f(x|\\mu, \\sigma^2) = \\frac{1}{\\sqrt{2\\pi\\sigma^2}}e^{\\frac{(x-\\mu)^2}{2\\sigma^2}}$$\n",
    "where $\\mu$ is the mean and $\\sigma$ is the standard deviation. \n",
    "\n",
    "These functional forms can sometimes be useful for building intuition, but luckily in python we rarely need to code one from scratch because there is a huge library of statistical distributions built into the scipy statistics library of functions. For a full list of available distributions, see [this link](https://docs.scipy.org/doc/scipy/reference/stats.html). "
   ]
  },
  {
   "cell_type": "markdown",
   "metadata": {},
   "source": [
    "<div class=hw>\n",
    "    \n",
    "### Exercise 2 \n",
    "\n",
    "----------------------------------\n",
    "Set a timer for 10 minutes. How many statistical distributions can you put on the same plot in this time? Make sure that you use a legend describing the relevant input parameters for that distribution. "
   ]
  },
  {
   "cell_type": "code",
   "execution_count": null,
   "metadata": {},
   "outputs": [],
   "source": [
    "## plotting code goes here"
   ]
  },
  {
   "cell_type": "markdown",
   "metadata": {},
   "source": [
    "## 1.3 - Probability Density Functions\n",
    "\n",
    "Since we already used the normal distribution in Example 1, let's use a new distribution here - the Poisson distribution, which in astronomy is perhaps most important in its application to the collection of light from astronomical objects, where the photons collected per unit of time should follow a poisson distribution. \n",
    "\n",
    "$$P(n)=e^{-\\lambda}\\frac{\\lambda^n}{n!}$$\n",
    "\n",
    "where $\\lambda$ is the mean of the distribution. We will need to define a range of values for n over which to calculate the pdf, and it can be difficult to choose these intelligently. One trick is to use the \"percent point function\" to evaluate the n value corresponding to a certain percentile of the full distribution. For example ppf(0.01) corresponds to the n value where only 1% of the area under the PDF is less than n. \n",
    "\n",
    "Let's create an appropriate range of n values for an arbitrary choice of $\\lambda$"
   ]
  },
  {
   "cell_type": "code",
   "execution_count": null,
   "metadata": {},
   "outputs": [],
   "source": [
    "lam = 75\n",
    "#return the n value corresponding to the 0.1 percentile\n",
    "minn = stats.poisson.ppf(0.001, lam)\n",
    "#return the n value corresponding to the 99.9 percentile\n",
    "maxn = stats.poisson.ppf(0.999, lam)\n",
    "print(minn,maxn)"
   ]
  },
  {
   "cell_type": "code",
   "execution_count": null,
   "metadata": {},
   "outputs": [],
   "source": [
    "#create a range of x values over which to compute the PDF, ranging from minn to maxn\n",
    "x = np.arange(minn,maxn)\n",
    "len(x)"
   ]
  },
  {
   "cell_type": "markdown",
   "metadata": {},
   "source": [
    "Now we're ready to actually compute the PDF, though actually in this case because the poisson distribution is discrete, this is more properly called a PMF (Probability Mass Function)"
   ]
  },
  {
   "cell_type": "code",
   "execution_count": null,
   "metadata": {},
   "outputs": [],
   "source": [
    "#compute pmf for given lam and range of x\n",
    "poisson_pmf = stats.poisson.pmf(x, lam)"
   ]
  },
  {
   "cell_type": "markdown",
   "metadata": {},
   "source": [
    "We can also just as easily compute the cumulative distribution function"
   ]
  },
  {
   "cell_type": "code",
   "execution_count": null,
   "metadata": {},
   "outputs": [],
   "source": [
    "poisson_cdf = stats.poisson.cdf(x,lam)"
   ]
  },
  {
   "cell_type": "markdown",
   "metadata": {},
   "source": [
    "<div class=hw>\n",
    "    \n",
    "### Exercise 3\n",
    "\n",
    "--------------------------------------\n",
    "    \n",
    "(a) Using the cells above as a reference, write a ***for loop*** that plots the poisson PDF for a range of $\\mu$ values from 10 to 100 (by tens is fine) all on the same plot.   \n",
    "(b) Once you have created your graphic, which should have a proper legend and axis labels, write a one sentence summary of the most important feature(s) of the poisson distribution demonstrated by the graphic.   \n",
    "(c) Now write a function that will plot a poisson distribution with an arbitrary $\\lambda$ value (the required input) and then overplot a normal distribution with the same mean and standard deviation as the Poisson over the same range of x values. The output plot should have an appropriate legend and axis labels.  \n",
    "(d) Use your code from (c) to generate comparisons between the Poisson and Normal distributions for a range of $\\mu$ values, then describe in words (i) the ways in which the two distributions are different from one another, and (ii) how this difference changes as $\\lambda$ changes.  \n",
    "(e) Write a function similar to (c) but comparing the CDFs of the Poisson and Normal distributions instead of the PDFs.  \n",
    "(f) Here again, generate comparisons for a range of $\\lambda$ values. In your own words, describe how the PDFs and CDFs complement one another. What things are easiest to see in the PDFs? What things are easiest to see in the CDFs?  "
   ]
  },
  {
   "cell_type": "code",
   "execution_count": null,
   "metadata": {},
   "outputs": [],
   "source": [
    "## your for loop for exercise (a) goes here"
   ]
  },
  {
   "cell_type": "markdown",
   "metadata": {},
   "source": [
    "***Your explanation for (b) goes here***"
   ]
  },
  {
   "cell_type": "code",
   "execution_count": null,
   "metadata": {},
   "outputs": [],
   "source": [
    "#your function for (c) goes here"
   ]
  },
  {
   "cell_type": "code",
   "execution_count": null,
   "metadata": {},
   "outputs": [],
   "source": [
    "#test statement 1"
   ]
  },
  {
   "cell_type": "code",
   "execution_count": null,
   "metadata": {},
   "outputs": [],
   "source": [
    "#test statement 2"
   ]
  },
  {
   "cell_type": "code",
   "execution_count": null,
   "metadata": {},
   "outputs": [],
   "source": [
    "#test statement 3"
   ]
  },
  {
   "cell_type": "markdown",
   "metadata": {},
   "source": [
    "***Your explanation for (d) goes here***"
   ]
  },
  {
   "cell_type": "code",
   "execution_count": null,
   "metadata": {},
   "outputs": [],
   "source": [
    "#your function for (e) goes here"
   ]
  },
  {
   "cell_type": "code",
   "execution_count": null,
   "metadata": {},
   "outputs": [],
   "source": [
    "#test statement 1"
   ]
  },
  {
   "cell_type": "code",
   "execution_count": null,
   "metadata": {},
   "outputs": [],
   "source": [
    "#test statement 2"
   ]
  },
  {
   "cell_type": "code",
   "execution_count": null,
   "metadata": {},
   "outputs": [],
   "source": [
    "#test statement 3"
   ]
  },
  {
   "cell_type": "markdown",
   "metadata": {},
   "source": [
    "*** your explanation for (f) goes here ***"
   ]
  },
  {
   "cell_type": "markdown",
   "metadata": {},
   "source": [
    "### 1.4 Descriptive Statistics"
   ]
  },
  {
   "cell_type": "markdown",
   "metadata": {},
   "source": [
    "Most of the statistical distributions in Python also have a \"stats\" method built in that will tell you about the moments of the distribution. For example:"
   ]
  },
  {
   "cell_type": "code",
   "execution_count": null,
   "metadata": {},
   "outputs": [],
   "source": [
    "#let's try a non-integer mean this time\n",
    "lam = 5.7"
   ]
  },
  {
   "cell_type": "code",
   "execution_count": null,
   "metadata": {},
   "outputs": [],
   "source": [
    "#the stats method\n",
    "mean, var, skew, kurt = stats.poisson.stats(lam, moments = 'mvsk')"
   ]
  },
  {
   "cell_type": "code",
   "execution_count": null,
   "metadata": {},
   "outputs": [],
   "source": [
    "print(mean, var, skew, kurt)"
   ]
  },
  {
   "cell_type": "markdown",
   "metadata": {},
   "source": [
    "There are also built-in functions for other statistical quantities, for example"
   ]
  },
  {
   "cell_type": "code",
   "execution_count": null,
   "metadata": {},
   "outputs": [],
   "source": [
    "stats.poisson.median(lam)"
   ]
  },
  {
   "cell_type": "code",
   "execution_count": null,
   "metadata": {},
   "outputs": [],
   "source": [
    "stats.poisson.mean(lam)"
   ]
  },
  {
   "cell_type": "code",
   "execution_count": null,
   "metadata": {},
   "outputs": [],
   "source": [
    "stats.poisson.std(lam)"
   ]
  },
  {
   "cell_type": "markdown",
   "metadata": {},
   "source": [
    "<div class=hw>\n",
    "    \n",
    "### Exercise 4\n",
    "    \n",
    "--------------------------------\n",
    "Using your knowledge of the Poisson distribution from the reading and from any experiments that you can do with the functions and plots that you've designed above, identify each of the following statements as True or False, and insert an explanation of why. **Connect your answers to the plots that you made for Exercise 3 and to specific statistics wherever possible**\n",
    "\n",
    "1. The mean and variance values will always be the same for the poisson distribution.   \n",
    "***explanation here***\n",
    "2. A skew of 0.1 means that there is slightly more power (area) to the left of the peak than to the right for the Poisson distribution.   \n",
    "***explanation here***\n",
    "3. A positive kurtosis means that the distribution is \"peakier\" than a normal distribution.   \n",
    "***explanation here***\n",
    "4. The mean and median of a poisson distribution are always different.  \n",
    "***explanation here***\n",
    "5. The poisson distribution gets less symmetrical as n increases.  \n",
    "***explanation here***"
   ]
  },
  {
   "cell_type": "code",
   "execution_count": null,
   "metadata": {},
   "outputs": [],
   "source": [
    "#tests and supporting plots in this cell and any others that you choose to insert"
   ]
  },
  {
   "cell_type": "markdown",
   "metadata": {},
   "source": [
    "# 2. Convolution in Python\n",
    "\n",
    "\"Convolution\" is a mathematical operation that is useful in statistics in that it allows us to derive a probability distribution for a quantity that is the sum of two other (independent, random) variables that are themselves distributed following their own PDFs. It has a mathematical definition, but here we will try to develop some intuition for it graphically. \n",
    "\n",
    "Let's start by visualizing this for two normal distributions with different means but the same standard deviation. "
   ]
  },
  {
   "cell_type": "code",
   "execution_count": null,
   "metadata": {},
   "outputs": [],
   "source": [
    "x = np.arange(0,20,0.1)\n",
    "norm1 = stats.norm.pdf(x,loc=5, scale=1)\n",
    "norm2 = stats.norm.pdf(x, loc=15, scale=1)"
   ]
  },
  {
   "cell_type": "code",
   "execution_count": null,
   "metadata": {},
   "outputs": [],
   "source": [
    "plt.plot(x, norm1, label=\"$\\mu$=3\")\n",
    "plt.plot(x, norm2, color=\"red\", label=\"$\\mu$=7\")\n",
    "plt.legend()"
   ]
  },
  {
   "cell_type": "code",
   "execution_count": null,
   "metadata": {},
   "outputs": [],
   "source": [
    "conv = np.convolve(norm1,norm2, mode=\"same\")"
   ]
  },
  {
   "cell_type": "code",
   "execution_count": null,
   "metadata": {},
   "outputs": [],
   "source": [
    "plt.plot(x, norm1, label=\"$\\mu$=3\")\n",
    "plt.plot(x, norm2, color=\"cyan\", label=\"$\\mu$=7\")\n",
    "plt.plot(x, conv, color=\"magenta\", label=\"convolution\" )"
   ]
  },
  {
   "cell_type": "code",
   "execution_count": null,
   "metadata": {},
   "outputs": [],
   "source": [
    "conv/=sum(norm2)\n",
    "print(sum(conv))"
   ]
  },
  {
   "cell_type": "code",
   "execution_count": null,
   "metadata": {},
   "outputs": [],
   "source": [
    "plt.plot(x, norm1, label=\"$\\mu$=3\")\n",
    "plt.plot(x, norm2, color=\"cyan\", label=\"$\\mu$=7\")\n",
    "plt.plot(x, conv, color=\"magenta\", label=\"convolution\" )"
   ]
  },
  {
   "cell_type": "markdown",
   "metadata": {},
   "source": [
    "<div class=hw>\n",
    "    \n",
    "### Exercise 5\n",
    "\n",
    "---------------------------\n",
    "    \n",
    "Experiment with the convolution of normal distributions with different values of $\\mu$ and $\\sigma$. Write down at least three observations about what is happening, with plots interspersed to demonstrate/support your arguments. \n",
    "\n",
    "**Challenge Exercise**\n",
    "If you finish early, do the same for another statistical distribution. "
   ]
  },
  {
   "cell_type": "code",
   "execution_count": null,
   "metadata": {},
   "outputs": [],
   "source": []
  },
  {
   "cell_type": "code",
   "execution_count": null,
   "metadata": {},
   "outputs": [],
   "source": []
  },
  {
   "cell_type": "code",
   "execution_count": 1,
   "metadata": {},
   "outputs": [
    {
     "data": {
      "text/html": [
       "<style>\n",
       "div.hw {    \n",
       "    background-color: #fcf2f2;\n",
       "    border-color: #dFb5b4;\n",
       "    border-left: 5px solid #dfb5b4;\n",
       "    padding: 0.5em;\n",
       "    }\n",
       " </style>\n",
       "\n",
       "<style>\n",
       "div.sidebar {    \n",
       "    background-color: #d3d3d3;\n",
       "    border-color: #dFb5b4;\n",
       "    border-left: 5px solid #dfb5b4;\n",
       "    padding: 0.5em;\n",
       "    }\n",
       " </style>"
      ],
      "text/plain": [
       "<IPython.core.display.HTML object>"
      ]
     },
     "execution_count": 1,
     "metadata": {},
     "output_type": "execute_result"
    }
   ],
   "source": [
    "from IPython.core.display import HTML\n",
    "def css_styling():\n",
    "    styles = open(\"../../custom.css\", \"r\").read()\n",
    "    return HTML(styles)\n",
    "css_styling()"
   ]
  }
 ],
 "metadata": {
  "kernelspec": {
   "display_name": "Python 3",
   "language": "python",
   "name": "python3"
  },
  "language_info": {
   "codemirror_mode": {
    "name": "ipython",
    "version": 3
   },
   "file_extension": ".py",
   "mimetype": "text/x-python",
   "name": "python",
   "nbconvert_exporter": "python",
   "pygments_lexer": "ipython3",
   "version": "3.7.3"
  }
 },
 "nbformat": 4,
 "nbformat_minor": 2
}
